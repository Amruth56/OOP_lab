{
  "nbformat": 4,
  "nbformat_minor": 0,
  "metadata": {
    "colab": {
      "name": "lab_work.ipynb",
      "provenance": [],
      "authorship_tag": "ABX9TyPQIwhiR6Ht6WOmw6bElTLb",
      "include_colab_link": true
    },
    "kernelspec": {
      "name": "python3",
      "display_name": "Python 3"
    },
    "language_info": {
      "name": "python"
    }
  },
  "cells": [
    {
      "cell_type": "markdown",
      "metadata": {
        "id": "view-in-github",
        "colab_type": "text"
      },
      "source": [
        "<a href=\"https://colab.research.google.com/github/Amruth56/OOP_lab/blob/main/lab_work.ipynb\" target=\"_parent\"><img src=\"https://colab.research.google.com/assets/colab-badge.svg\" alt=\"Open In Colab\"/></a>"
      ]
    },
    {
      "cell_type": "code",
      "metadata": {
        "colab": {
          "base_uri": "https://localhost:8080/"
        },
        "id": "SuN1kjfnSMkP",
        "outputId": "3ed8c547-abfc-4ff8-ffec-8232ce495897"
      },
      "source": [
        "year = int(input(\"Enter a year: \"))\n",
        "\n",
        "if (year % 4) == 0:\n",
        "   if (year % 100) == 0:\n",
        "       if (year % 400) == 0:\n",
        "           print(\"%d is a leap year\"%year)\n",
        "       else:\n",
        "           print(\"%d is not a leap year\"%year)\n",
        "   else:\n",
        "       print(\"%d is a leap year\"%year)\n",
        "else:\n",
        "   print(\"%d is not a leap year\"%year)"
      ],
      "execution_count": null,
      "outputs": [
        {
          "output_type": "stream",
          "name": "stdout",
          "text": [
            "Enter a year: 2001\n",
            "2001 is not a leap year\n"
          ]
        }
      ]
    },
    {
      "cell_type": "code",
      "metadata": {
        "colab": {
          "base_uri": "https://localhost:8080/"
        },
        "id": "FdLIAPuUS7fL",
        "outputId": "6479a0b2-400c-4806-dfe0-dfcdbe1d8130"
      },
      "source": [
        "num = int(input(\"enter the number :\"))\n",
        "if num % 2 == 1:\n",
        "    print(\"Weird\")\n",
        "elif num % 2 == 0 and 2 <= num <= 5:\n",
        "    print(\"Not Weird\")\n",
        "elif num % 2 == 0 and 6 <= num <= 20:\n",
        "    print(\"Weird\")\n",
        "else:\n",
        "    print(\"Not Weird\")"
      ],
      "execution_count": null,
      "outputs": [
        {
          "output_type": "stream",
          "name": "stdout",
          "text": [
            "enter the number :99\n",
            "Weird\n"
          ]
        }
      ]
    },
    {
      "cell_type": "code",
      "metadata": {
        "colab": {
          "base_uri": "https://localhost:8080/"
        },
        "id": "5ICvZl2QS7qb",
        "outputId": "4f6eeba1-a905-43dd-8200-4effaa00c20b"
      },
      "source": [
        "def fun_late(arrival,guests):\n",
        "  if arrival.index(guests)>=(len(arrival))//2 and arrival[-1]!=guests:\n",
        "    print(f\"{guests} is fashionably late.\")\n",
        "  else:\n",
        "    None\n",
        "\n",
        "arrival=[\"Goku\",\"Light Yagami\",\"Naruto Uzumaki\",\"Eren Yeager\",\"Levi\",\"Ichigo Kurosaki\",\"Itachi Uchiah\"]\n",
        "\n",
        "for z in arrival:\n",
        "  fun_late(arrival,z)"
      ],
      "execution_count": null,
      "outputs": [
        {
          "output_type": "stream",
          "name": "stdout",
          "text": [
            "Eren Yeager is fashionably late.\n",
            "Levi is fashionably late.\n",
            "Ichigo Kurosaki is fashionably late.\n"
          ]
        }
      ]
    },
    {
      "cell_type": "code",
      "metadata": {
        "colab": {
          "base_uri": "https://localhost:8080/"
        },
        "id": "X5y9CoVAS72m",
        "outputId": "220242f1-2204-4c78-bed4-86bd1b05ab5b"
      },
      "source": [
        "def doc_list(article,word):\n",
        "  word = word.upper()\n",
        "  print(F\"list of matching articles with the word \\\"{word}\\\":\\n\")\n",
        "  for i in article:\n",
        "    j=\" \" + i.upper() + \" \"\n",
        "    if ((\" \"+word+\" \")in j) or ((\" \"+word+\" \")in j) or ((\" \"+word+\" \")in j):\n",
        "      print(\"  \",i)\n",
        "  print(\"\\t\\n\")\n",
        "\n",
        "article=[\"The Learn Python Challenge Rohit.\", \"They bought a car\",\"banglore\"]\n",
        "\n",
        "doc_list(article,\"Banglore\")\n",
        "doc_list(article,\"they\")\n",
        "doc_list(article,\"rohit.\")"
      ],
      "execution_count": null,
      "outputs": [
        {
          "output_type": "stream",
          "name": "stdout",
          "text": [
            "list of matching articles with the word \"BANGLORE\":\n",
            "\n",
            "   banglore\n",
            "\t\n",
            "\n",
            "list of matching articles with the word \"THEY\":\n",
            "\n",
            "   They bought a car\n",
            "\t\n",
            "\n",
            "list of matching articles with the word \"ROHIT.\":\n",
            "\n",
            "   The Learn Python Challenge Rohit.\n",
            "\t\n",
            "\n"
          ]
        }
      ]
    },
    {
      "cell_type": "code",
      "metadata": {
        "colab": {
          "base_uri": "https://localhost:8080/"
        },
        "id": "G78SXLsaS8Ax",
        "outputId": "52f20f6a-d212-4f52-9e53-01947b5ff9e1"
      },
      "source": [
        "Basic_pay=int(input(\"enter the basic saler :\"))\n",
        "HRA= Basic_pay * (20/100)\n",
        "DA= Basic_pay*(40/100)\n",
        "GROSS_PAY = HRA + DA + Basic_pay\n",
        "print(GROSS_PAY)"
      ],
      "execution_count": null,
      "outputs": [
        {
          "output_type": "stream",
          "name": "stdout",
          "text": [
            "enter the basic saler :100000\n",
            "160000.0\n"
          ]
        }
      ]
    },
    {
      "cell_type": "markdown",
      "metadata": {
        "id": "tfW2pW9uoMzO"
      },
      "source": [
        "LAB ASSIGNASSIGNMENT - 2"
      ]
    },
    {
      "cell_type": "code",
      "metadata": {
        "colab": {
          "base_uri": "https://localhost:8080/"
        },
        "id": "zR4yN1bGoKcM",
        "outputId": "f097ae1c-5f16-4283-88d8-7a73aa594344"
      },
      "source": [
        "import math\n",
        "# pie=(22/7)\n",
        "class circle():\n",
        "    def __init__(self,rad):\n",
        "        self.rad=rad\n",
        "    def area(self):\n",
        "        return (math.pi)*(self.rad**2)\n",
        "    def perimeter(self):\n",
        "        return 2*(math.pi)*(self.rad)\n",
        " \n",
        "n=float(input(\"Enter radius of circle: \"))\n",
        "obj=circle(n)\n",
        "print(\"Area of circle:\",round(obj.area(),2))\n",
        "print(\"Perimeter of circle:\",round(obj.perimeter(),2))"
      ],
      "execution_count": 9,
      "outputs": [
        {
          "output_type": "stream",
          "name": "stdout",
          "text": [
            "Enter radius of circle: 3.3\n",
            "Area of circle: 34.21\n",
            "Perimeter of circle: 20.73\n"
          ]
        }
      ]
    },
    {
      "cell_type": "code",
      "metadata": {
        "colab": {
          "base_uri": "https://localhost:8080/"
        },
        "id": "dQYD2r8mq7LI",
        "outputId": "aaa67a67-f478-4d03-a198-3f032efec7f7"
      },
      "source": [
        "pie=float(22/7)\n",
        "class circle():\n",
        "  def __init__(self,radius):\n",
        "    self.radius=radius\n",
        "  def area(self):\n",
        "    return(pie)*(self.radius**2)\n",
        "  def perimeter(self):\n",
        "    return 2*(pie)*(self.radius)\n",
        "n=float(input(\"Enter the radius of the circle :\"))\n",
        "object=circle(n)\n",
        "print(\"Area of the circle:\",round(object.area(),2))\n",
        "print(\"Perimeter of circle:\",round(object.perimeter(),2))\n"
      ],
      "execution_count": 19,
      "outputs": [
        {
          "output_type": "stream",
          "name": "stdout",
          "text": [
            "Enter the radius of the circle :3.3\n",
            "Area of the circle: 34.23\n",
            "Perimeter of circle: 20.74\n"
          ]
        }
      ]
    }
  ]
}