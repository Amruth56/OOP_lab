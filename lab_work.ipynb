{
  "nbformat": 4,
  "nbformat_minor": 0,
  "metadata": {
    "colab": {
      "name": "lab_work.ipynb",
      "provenance": [],
      "authorship_tag": "ABX9TyP//EpuOHDFcRU/g/ekj+ms",
      "include_colab_link": true
    },
    "kernelspec": {
      "name": "python3",
      "display_name": "Python 3"
    },
    "language_info": {
      "name": "python"
    }
  },
  "cells": [
    {
      "cell_type": "markdown",
      "metadata": {
        "id": "view-in-github",
        "colab_type": "text"
      },
      "source": [
        "<a href=\"https://colab.research.google.com/github/Amruth56/OOP_lab/blob/main/lab_work.ipynb\" target=\"_parent\"><img src=\"https://colab.research.google.com/assets/colab-badge.svg\" alt=\"Open In Colab\"/></a>"
      ]
    },
    {
      "cell_type": "code",
      "metadata": {
        "colab": {
          "base_uri": "https://localhost:8080/"
        },
        "id": "SuN1kjfnSMkP",
        "outputId": "53dbd980-a5fd-4b33-c3c4-f6d7999d5322"
      },
      "source": [
        "year = int(input(\"Enter a year: \"))\n",
        "\n",
        "if (year % 4) == 0:\n",
        "   if (year % 100) == 0:\n",
        "       if (year % 400) == 0:\n",
        "           print(\"%d is a leap year\"%year)\n",
        "       else:\n",
        "           print(\"%d is not a leap year\"%year)\n",
        "   else:\n",
        "       print(\"%d is a leap year\"%year)\n",
        "else:\n",
        "   print(\"%d is not a leap year\"%year)"
      ],
      "execution_count": 1,
      "outputs": [
        {
          "output_type": "stream",
          "name": "stdout",
          "text": [
            "Enter a year: 2000\n",
            "2000 is a leap year\n"
          ]
        }
      ]
    },
    {
      "cell_type": "code",
      "metadata": {
        "colab": {
          "base_uri": "https://localhost:8080/"
        },
        "id": "FdLIAPuUS7fL",
        "outputId": "a0ecc420-5c45-4f52-b925-0816aae1e1b9"
      },
      "source": [
        "num = int(input(\"enter the number :\"))\n",
        "if num % 2 == 1:\n",
        "    print(\"Weird\")\n",
        "elif num % 2 == 0 and 2 <= num <= 5:\n",
        "    print(\"Not Weird\")\n",
        "elif num % 2 == 0 and 6 <= num <= 20:\n",
        "    print(\"Weird\")\n",
        "else:\n",
        "    print(\"Not Weird\")"
      ],
      "execution_count": 2,
      "outputs": [
        {
          "output_type": "stream",
          "name": "stdout",
          "text": [
            "enter the number :4\n",
            "Not Weird\n"
          ]
        }
      ]
    },
    {
      "cell_type": "code",
      "metadata": {
        "colab": {
          "base_uri": "https://localhost:8080/"
        },
        "id": "5ICvZl2QS7qb",
        "outputId": "4f6eeba1-a905-43dd-8200-4effaa00c20b"
      },
      "source": [
        "def fun_late(arrival,guests):\n",
        "  if arrival.index(guests)>=(len(arrival))//2 and arrival[-1]!=guests:\n",
        "    print(f\"{guests} is fashionably late.\")\n",
        "  else:\n",
        "    None\n",
        "\n",
        "arrival=[\"Goku\",\"Light Yagami\",\"Naruto Uzumaki\",\"Eren Yeager\",\"Levi\",\"Ichigo Kurosaki\",\"Itachi Uchiah\"]\n",
        "\n",
        "for z in arrival:\n",
        "  fun_late(arrival,z)"
      ],
      "execution_count": 3,
      "outputs": [
        {
          "output_type": "stream",
          "name": "stdout",
          "text": [
            "Eren Yeager is fashionably late.\n",
            "Levi is fashionably late.\n",
            "Ichigo Kurosaki is fashionably late.\n"
          ]
        }
      ]
    },
    {
      "cell_type": "code",
      "metadata": {
        "colab": {
          "base_uri": "https://localhost:8080/"
        },
        "id": "X5y9CoVAS72m",
        "outputId": "220242f1-2204-4c78-bed4-86bd1b05ab5b"
      },
      "source": [
        "def doc_list(article,word):\n",
        "  word = word.upper()\n",
        "  print(F\"list of matching articles with the word \\\"{word}\\\":\\n\")\n",
        "  for i in article:\n",
        "    j=\" \" + i.upper() + \" \"\n",
        "    if ((\" \"+word+\" \")in j) or ((\" \"+word+\" \")in j) or ((\" \"+word+\" \")in j):\n",
        "      print(\"  \",i)\n",
        "  print(\"\\t\\n\")\n",
        "\n",
        "article=[\"The Learn Python Challenge Rohit.\", \"They bought a car\",\"banglore\"]\n",
        "\n",
        "doc_list(article,\"Banglore\")\n",
        "doc_list(article,\"they\")\n",
        "doc_list(article,\"rohit.\")"
      ],
      "execution_count": 4,
      "outputs": [
        {
          "output_type": "stream",
          "name": "stdout",
          "text": [
            "list of matching articles with the word \"BANGLORE\":\n",
            "\n",
            "   banglore\n",
            "\t\n",
            "\n",
            "list of matching articles with the word \"THEY\":\n",
            "\n",
            "   They bought a car\n",
            "\t\n",
            "\n",
            "list of matching articles with the word \"ROHIT.\":\n",
            "\n",
            "   The Learn Python Challenge Rohit.\n",
            "\t\n",
            "\n"
          ]
        }
      ]
    },
    {
      "cell_type": "code",
      "metadata": {
        "colab": {
          "base_uri": "https://localhost:8080/"
        },
        "id": "G78SXLsaS8Ax",
        "outputId": "df4f8d0f-c362-456a-cccf-b032b941d67c"
      },
      "source": [
        "Basic_pay=int(input(\"enter the basic saler :\"))\n",
        "HRA= Basic_pay * (20/100)\n",
        "DA= Basic_pay*(40/100)\n",
        "GROSS_PAY = HRA + DA + Basic_pay\n",
        "print(GROSS_PAY)"
      ],
      "execution_count": 7,
      "outputs": [
        {
          "output_type": "stream",
          "name": "stdout",
          "text": [
            "enter the basic saler :60000\n",
            "96000.0\n"
          ]
        }
      ]
    }
  ]
}