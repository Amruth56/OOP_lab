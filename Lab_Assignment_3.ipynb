{
  "nbformat": 4,
  "nbformat_minor": 0,
  "metadata": {
    "colab": {
      "name": "Lab_Assignment_3.ipynb",
      "provenance": [],
      "authorship_tag": "ABX9TyMpmp+iTkDnMy17TBQZT1gV",
      "include_colab_link": true
    },
    "kernelspec": {
      "name": "python3",
      "display_name": "Python 3"
    },
    "language_info": {
      "name": "python"
    }
  },
  "cells": [
    {
      "cell_type": "markdown",
      "metadata": {
        "id": "view-in-github",
        "colab_type": "text"
      },
      "source": [
        "<a href=\"https://colab.research.google.com/github/Amruth56/OOP_lab/blob/main/Lab_Assignment_3.ipynb\" target=\"_parent\"><img src=\"https://colab.research.google.com/assets/colab-badge.svg\" alt=\"Open In Colab\"/></a>"
      ]
    },
    {
      "cell_type": "markdown",
      "metadata": {
        "id": "YoU7TTO3ALiG"
      },
      "source": [
        "#**AMRUTH_MANDAPPA_20BCS013_OOP_TASK_3**"
      ]
    },
    {
      "cell_type": "markdown",
      "metadata": {
        "id": "i9X0ncuKAVZD"
      },
      "source": [
        "**PROBLEM 1**"
      ]
    },
    {
      "cell_type": "code",
      "metadata": {
        "colab": {
          "base_uri": "https://localhost:8080/"
        },
        "id": "ctcF-jqcAag6",
        "outputId": "520792f2-1c5b-4f9d-8296-75abf1d96bcb"
      },
      "source": [
        "class Student:\n",
        "  def data(self):\n",
        "    self.name = str(input(\"Enter student's name :\"))\n",
        "    self.regNo = (input(\"Enter registration number :\"))\n",
        "    self.age = int(input(\"Enter student's age :\"))\n",
        "    self.gender = str(input(\"Enter student's gender :\"))\n",
        "    self.branch = str(input(\"Enter student's branch :\"))\n",
        "    self.semester = int(input(\"Enter semester :\"))\n",
        "\n",
        "  def display(self):\n",
        "    print(f\"\\n Name: {self.name}\\n Reg. no: {(self.regNo)}\\n Age: {(self.age)}\\n Gender:{self.gender}\\n Branch: {self.branch}\\n Semester: {self.semester}\")\n",
        "\n",
        "class StudentResultInfo(Student):\n",
        "  def __init__(self, totalMarks, percentage, grade):\n",
        "    self.totalMarks = totalMarks\n",
        "    self.percentage = percentage\n",
        "    self.grade = grade\n",
        "\n",
        "  def displayData(self):\n",
        "    print(\"\\n\\n ***************  Basic Information ***************\")\n",
        "    self.display()\n",
        "    print(f\"\\n *************** Students Result *************** \\n\\n Total marks: {(self.totalMarks)}\\n Percentage: {(self.percentage)} % Grade: {self.grade}\")\n",
        "\n",
        "std1 = StudentResultInfo(600, 98, 'A+')\n",
        "std1.data()\n",
        "std1.display()\n",
        "std1.displayData()"
      ],
      "execution_count": 5,
      "outputs": [
        {
          "output_type": "stream",
          "name": "stdout",
          "text": [
            "Enter student's name :XYZ\n",
            "Enter registration number :123\n",
            "Enter student's age :20\n",
            "Enter student's gender :Male\n",
            "Enter student's branch :CSe\n",
            "Enter semester :3\n",
            "\n",
            " Name: XYZ\n",
            " Reg. no: 123\n",
            " Age: 20\n",
            " Gender:Male\n",
            " Branch: CSe\n",
            " Semester: 3\n",
            "\n",
            "\n",
            " ***************  Basic Information ***************\n",
            "\n",
            " Name: XYZ\n",
            " Reg. no: 123\n",
            " Age: 20\n",
            " Gender:Male\n",
            " Branch: CSe\n",
            " Semester: 3\n",
            "\n",
            " *************** Students Result *************** \n",
            "\n",
            " Total marks: 600\n",
            " Percentage: 98 % Grade: A+\n"
          ]
        }
      ]
    },
    {
      "cell_type": "markdown",
      "metadata": {
        "id": "0iyRmF7jAbA0"
      },
      "source": [
        "**PROBLEM 2**"
      ]
    },
    {
      "cell_type": "code",
      "metadata": {
        "colab": {
          "base_uri": "https://localhost:8080/"
        },
        "id": "Dd8Eap9xAeM5",
        "outputId": "34651dec-5309-48d6-e870-3035bc310fc4"
      },
      "source": [
        "class PDFs:\n",
        "  def __init__(self, creator, description, size):\n",
        "    self.creator = creator\n",
        "    self.description = description\n",
        "    self.size = size\n",
        "\n",
        "  def displayInfo(self):\n",
        "    print(\"Created by:\",self.creator)\n",
        "    print(\"Description:\", self.description)\n",
        "    print(\"File size (in KBs):\", self.size)\n",
        "\n",
        "  def sizeLimit(self):\n",
        "    if self.size > 256:\n",
        "      print(\"Size exceeds threshold.\\n\")\n",
        "    else:\n",
        "      print(\"Size is within the threshold.\\n\")\n",
        "\n",
        "class Pictures(PDFs):\n",
        "  def __init__(self, creator, description, size, dimension):\n",
        "    super().__init__(creator, description, size)\n",
        "    self.dimension = dimension\n",
        "\n",
        "  def displayPicInfo(self):\n",
        "    self.displayInfo()\n",
        "    print(\"Dimensions (in pixels):\", self.dimension)\n",
        "\n",
        "  def dimensionLimit(self):\n",
        "    if self.dimension>2000:\n",
        "      print(\" high dimension!\\n\")\n",
        "    else:\n",
        "      print(\" dimensions are fine.\\n\")\n",
        "      \n",
        "pdf1 = PDFs(\"QWERTY\", \"LMNOP\", 14.7)\n",
        "pdf1.displayInfo()\n",
        "pdf1.sizeLimit()\n",
        "print()\n",
        "img = Pictures(\"XYZ\", \"ABCD\", 43265, 2134)\n",
        "img.displayPicInfo()\n",
        "img.dimensionLimit()"
      ],
      "execution_count": 12,
      "outputs": [
        {
          "output_type": "stream",
          "name": "stdout",
          "text": [
            "Created by: QWERTY\n",
            "Description: LMNOP\n",
            "File size (in KBs): 14.7\n",
            "Size is within the threshold.\n",
            "\n",
            "\n",
            "Created by: XYZ\n",
            "Description: ABCD\n",
            "File size (in KBs): 43265\n",
            "Dimensions (in pixels): 2134\n",
            " high dimension!\n",
            "\n"
          ]
        }
      ]
    },
    {
      "cell_type": "markdown",
      "metadata": {
        "id": "dxt93eVMAeh7"
      },
      "source": [
        "**PROBLEM 3**"
      ]
    },
    {
      "cell_type": "code",
      "metadata": {
        "colab": {
          "base_uri": "https://localhost:8080/"
        },
        "id": "xkNbAl5HAUCE",
        "outputId": "806a3eb2-3dec-4555-fed4-923c43535930"
      },
      "source": [
        "\n",
        "class Vehicle:\n",
        "    def __init__(self, name, mileage, capacity):\n",
        "        self.name = name\n",
        "        self.mileage = mileage\n",
        "        self.capacity = capacity\n",
        "\n",
        "    def cap(self):\n",
        "        return self.capacity * 100\n",
        "\n",
        "class Bus(Vehicle):\n",
        "    def __init__(self, name, mileage, capacity=50):\n",
        "        Vehicle.__init__(self, name, mileage, capacity)\n",
        "        self.finalAmount = Vehicle.cap(self) * 1.1\n",
        "\n",
        "    def busFare(self):\n",
        "        print(f\"Total Fare : {self.finalAmount}\")\n",
        "\n",
        "car1 = Vehicle(\"Swift\", 30, 5)\n",
        "print(f\"Car Fare : {car1.cap()}\")\n",
        "bus1 = Bus(\"Airavata\", 10, 50)\n",
        "bus1.busFare()"
      ],
      "execution_count": 7,
      "outputs": [
        {
          "output_type": "stream",
          "name": "stdout",
          "text": [
            "Car Fare : 500\n",
            "Total Fare : 5500.0\n"
          ]
        }
      ]
    }
  ]
}