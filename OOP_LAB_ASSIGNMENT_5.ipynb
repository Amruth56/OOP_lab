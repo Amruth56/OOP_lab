{
  "nbformat": 4,
  "nbformat_minor": 0,
  "metadata": {
    "colab": {
      "name": "OOP_LAB_ASSIGNMENT-5.ipynb",
      "provenance": [],
      "authorship_tag": "ABX9TyOyQ7Rr4of5OuG8UnSbtrMF",
      "include_colab_link": true
    },
    "kernelspec": {
      "name": "python3",
      "display_name": "Python 3"
    },
    "language_info": {
      "name": "python"
    }
  },
  "cells": [
    {
      "cell_type": "markdown",
      "metadata": {
        "id": "view-in-github",
        "colab_type": "text"
      },
      "source": [
        "<a href=\"https://colab.research.google.com/github/Amruth56/OOP_lab/blob/main/OOP_LAB_ASSIGNMENT_5.ipynb\" target=\"_parent\"><img src=\"https://colab.research.google.com/assets/colab-badge.svg\" alt=\"Open In Colab\"/></a>"
      ]
    },
    {
      "cell_type": "markdown",
      "metadata": {
        "id": "qzO_U6MVIaxk"
      },
      "source": [
        "***PROBLEM 1***"
      ]
    },
    {
      "cell_type": "code",
      "metadata": {
        "colab": {
          "base_uri": "https://localhost:8080/"
        },
        "id": "exhhc3WIIgGE",
        "outputId": "317a1e61-d4ad-4923-c067-fc7edcad6ac8"
      },
      "source": [
        "from abc import ABC, abstractmethod\n",
        "import numpy as np\n",
        "\n",
        "class Shape:\n",
        "  def __init__(self, name):\n",
        "    self.name = name\n",
        "  \n",
        "  @abstractmethod\n",
        "  def area(self):\n",
        "    pass\n",
        "\n",
        "class Circle(Shape):\n",
        "  def __init__(self, radius):\n",
        "    Shape.__init__(self, 'Circle')\n",
        "    self.radius = radius\n",
        "  \n",
        "  def area(self):\n",
        "    return round(np.pi * (self.radius**2))\n",
        "\n",
        "class Square(Shape):\n",
        "  def __init__(self, length):\n",
        "    Shape.__init__(self, 'Square')\n",
        "    self.length = length\n",
        "\n",
        "  def area(self):\n",
        "    return self.length**2\n",
        "\n",
        "class Rectangle(Shape):\n",
        "  def __init__(self, length, breadth):\n",
        "    Shape.__init__(self, 'Rectangle')\n",
        "    self.length = length\n",
        "    self.breadth = breadth\n",
        "\n",
        "  def area(self):\n",
        "    return self.length*self.breadth\n",
        "\n",
        "\n",
        "c = Circle(5)\n",
        "s = Square(3)\n",
        "r = Rectangle(4, 2)\n",
        "print(f'Area of Circle: {c.area()}\\nArea of Square: {s.area()}\\nArea of Rectangle: {r.area()}')"
      ],
      "execution_count": 1,
      "outputs": [
        {
          "output_type": "stream",
          "name": "stdout",
          "text": [
            "Area of Circle: 79\n",
            "Area of Square: 9\n",
            "Area of Rectangle: 8\n"
          ]
        }
      ]
    },
    {
      "cell_type": "markdown",
      "metadata": {
        "id": "bVvzzLWVI40z"
      },
      "source": [
        "**PROBLEM 2**"
      ]
    },
    {
      "cell_type": "code",
      "metadata": {
        "colab": {
          "base_uri": "https://localhost:8080/"
        },
        "id": "Ti0W2xcQI8qT",
        "outputId": "da9b0b93-1c09-414a-bba2-213367cd5900"
      },
      "source": [
        "from abc import ABC, abstractmethod\n",
        "class Travel(ABC):\n",
        "    def __init__(self, num, distance, mode):\n",
        "        self.__num = num\n",
        "        self.distance = distance\n",
        "        self.mode = mode\n",
        "\n",
        "    @abstractmethod\n",
        "    def cost(self):\n",
        "        pass\n",
        "\n",
        "class Bus(Travel):\n",
        "    def __init__(self, num, distance):\n",
        "        Travel.__init__(self, num, distance, 'Bus')\n",
        "\n",
        "    def cost(self):\n",
        "        return 100*self._Travel__num                    # Name mangling\n",
        "\n",
        "class Train(Travel):\n",
        "    def __init__(self, num, distance):\n",
        "        Travel.__init__(self, num, distance, 'Train')\n",
        "\n",
        "    def cost(self):\n",
        "        return 60*self._Travel__num\n",
        "\n",
        "dharwadToBelagavi = 76.8                #Distance\n",
        "trainTrip = Train(4, dharwadToBelagavi)\n",
        "print(\"Cost for traveling by train:\", trainTrip.cost())\n",
        "busTrip = Bus(4, dharwadToBelagavi)\n",
        "print(\"Cost for traveling by bus  :\", busTrip.cost())"
      ],
      "execution_count": 2,
      "outputs": [
        {
          "output_type": "stream",
          "name": "stdout",
          "text": [
            "Cost for traveling by train: 240\n",
            "Cost for traveling by bus  : 400\n"
          ]
        }
      ]
    },
    {
      "cell_type": "markdown",
      "metadata": {
        "id": "5D_rO6DGJDD6"
      },
      "source": [
        "**PROBLEM 3**"
      ]
    },
    {
      "cell_type": "code",
      "metadata": {
        "colab": {
          "base_uri": "https://localhost:8080/"
        },
        "id": "ztP434cWI9zS",
        "outputId": "e6bc781a-6526-4473-a2a7-9578fc05b198"
      },
      "source": [
        "class Car:\n",
        "  def __init__(self, modelno):\n",
        "    self.modelno = modelno\n",
        "\n",
        "def swap_model_no(car1, car2):\n",
        "  car1.modelno, car2.modelno = car2.modelno, car1.modelno\n",
        "\n",
        "c1 = Car('2J394S')\n",
        "c2 = Car('2J419T')\n",
        "print('Before Swap:')\n",
        "print(f'Car 1: {c1.modelno}\\nCar 2: {c2.modelno}')\n",
        "swap_model_no(c1, c2)\n",
        "print('After Swap:')\n",
        "print(f'Car 1: {c1.modelno}\\nCar 2: {c2.modelno}')"
      ],
      "execution_count": 3,
      "outputs": [
        {
          "output_type": "stream",
          "name": "stdout",
          "text": [
            "Before Swap:\n",
            "Car 1: 2J394S\n",
            "Car 2: 2J419T\n",
            "After Swap:\n",
            "Car 1: 2J419T\n",
            "Car 2: 2J394S\n"
          ]
        }
      ]
    }
  ]
}