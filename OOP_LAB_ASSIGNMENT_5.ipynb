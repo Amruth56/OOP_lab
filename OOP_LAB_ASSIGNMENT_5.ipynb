{
  "nbformat": 4,
  "nbformat_minor": 0,
  "metadata": {
    "colab": {
      "name": "OOP_LAB_ASSIGNMENT-5.ipynb",
      "provenance": [],
      "authorship_tag": "ABX9TyNscq/oacOT9mhd/4V7vxkP",
      "include_colab_link": true
    },
    "kernelspec": {
      "name": "python3",
      "display_name": "Python 3"
    },
    "language_info": {
      "name": "python"
    }
  },
  "cells": [
    {
      "cell_type": "markdown",
      "metadata": {
        "id": "view-in-github",
        "colab_type": "text"
      },
      "source": [
        "<a href=\"https://colab.research.google.com/github/Amruth56/OOP_lab/blob/main/OOP_LAB_ASSIGNMENT_5.ipynb\" target=\"_parent\"><img src=\"https://colab.research.google.com/assets/colab-badge.svg\" alt=\"Open In Colab\"/></a>"
      ]
    },
    {
      "cell_type": "markdown",
      "metadata": {
        "id": "qzO_U6MVIaxk"
      },
      "source": [
        "***AMRUTH_MANDAPPA_20BCS013_OOP_TASK-5***"
      ]
    },
    {
      "cell_type": "markdown",
      "metadata": {
        "id": "TTDSRp70jRM6"
      },
      "source": [
        "**PROBLEM-1**"
      ]
    },
    {
      "cell_type": "code",
      "metadata": {
        "colab": {
          "base_uri": "https://localhost:8080/"
        },
        "id": "exhhc3WIIgGE",
        "outputId": "3aaaa8f8-3f16-41e1-bd62-76c1e86d0b06"
      },
      "source": [
        "from abc import ABC, abstractmethod\n",
        "import numpy as np\n",
        "\n",
        "class Shape:\n",
        "  def __init__(self, name):\n",
        "    self.name = name\n",
        "  \n",
        "  @abstractmethod\n",
        "  def area(self):\n",
        "    pass\n",
        "\n",
        "class Circle(Shape):\n",
        "  def __init__(self, radius):\n",
        "    Shape.__init__(self, 'Circle')\n",
        "    self.radius = radius\n",
        "  \n",
        "  def area(self):\n",
        "    return round(np.pi * (self.radius**2))\n",
        "\n",
        "class Square(Shape):\n",
        "  def __init__(self, length):\n",
        "    Shape.__init__(self, 'Square')\n",
        "    self.length = length\n",
        "\n",
        "  def area(self):\n",
        "    return self.length**2\n",
        "\n",
        "class Rectangle(Shape):\n",
        "  def __init__(self, length, breadth):\n",
        "    Shape.__init__(self, 'Rectangle')\n",
        "    self.length = length\n",
        "    self.breadth = breadth\n",
        "\n",
        "  def area(self):\n",
        "    return self.length*self.breadth\n",
        "\n",
        "\n",
        "c = Circle(7)\n",
        "s = Square(9)\n",
        "r = Rectangle(6, 4)\n",
        "print(f'Area of a Circle: {c.area()}\\nArea of a Square: {s.area()}\\nArea of a Rectangle: {r.area()}')"
      ],
      "execution_count": 2,
      "outputs": [
        {
          "output_type": "stream",
          "name": "stdout",
          "text": [
            "Area of a Circle: 154\n",
            "Area of a Square: 81\n",
            "Area of a Rectangle: 24\n"
          ]
        }
      ]
    },
    {
      "cell_type": "markdown",
      "metadata": {
        "id": "bVvzzLWVI40z"
      },
      "source": [
        "**PROBLEM 2**"
      ]
    },
    {
      "cell_type": "code",
      "metadata": {
        "colab": {
          "base_uri": "https://localhost:8080/"
        },
        "id": "Ti0W2xcQI8qT",
        "outputId": "da9b0b93-1c09-414a-bba2-213367cd5900"
      },
      "source": [
        "from abc import ABC, abstractmethod\n",
        "class Travel(ABC):\n",
        "    def __init__(self, num, distance, mode):\n",
        "        self.__num = num\n",
        "        self.distance = distance\n",
        "        self.mode = mode\n",
        "\n",
        "    @abstractmethod\n",
        "    def cost(self):\n",
        "        pass\n",
        "\n",
        "class Bus(Travel):\n",
        "    def __init__(self, num, distance):\n",
        "        Travel.__init__(self, num, distance, 'Bus')\n",
        "\n",
        "    def cost(self):\n",
        "        return 100*self._Travel__num                    # Name mangling\n",
        "\n",
        "class Train(Travel):\n",
        "    def __init__(self, num, distance):\n",
        "        Travel.__init__(self, num, distance, 'Train')\n",
        "\n",
        "    def cost(self):\n",
        "        return 60*self._Travel__num\n",
        "\n",
        "dharwadToBelagavi = 76.8                #Distance\n",
        "trainTrip = Train(4, dharwadToBelagavi)\n",
        "print(\"Cost for traveling by train:\", trainTrip.cost())\n",
        "busTrip = Bus(4, dharwadToBelagavi)\n",
        "print(\"Cost for traveling by bus  :\", busTrip.cost())"
      ],
      "execution_count": null,
      "outputs": [
        {
          "output_type": "stream",
          "name": "stdout",
          "text": [
            "Cost for traveling by train: 240\n",
            "Cost for traveling by bus  : 400\n"
          ]
        }
      ]
    },
    {
      "cell_type": "markdown",
      "metadata": {
        "id": "5D_rO6DGJDD6"
      },
      "source": [
        "**PROBLEM 3**"
      ]
    },
    {
      "cell_type": "code",
      "metadata": {
        "colab": {
          "base_uri": "https://localhost:8080/"
        },
        "id": "ztP434cWI9zS",
        "outputId": "c906cc90-923c-4535-b540-8bd440a5ae7d"
      },
      "source": [
        "class Car:\n",
        "  def __init__(self, modelno):\n",
        "    self.modelno = modelno\n",
        "\n",
        "def swap_model_no(car1, car2):\n",
        "  car1.modelno, car2.modelno = car2.modelno, car1.modelno\n",
        "\n",
        "c1 = Car('ABC123')\n",
        "c2 = Car('XYZ456')\n",
        "print('Before Swapping:')\n",
        "print(f'Car 1: {c1.modelno}\\nCar 2: {c2.modelno}')\n",
        "swap_model_no(c1, c2)\n",
        "print('\\nAfter Swapping:')\n",
        "print(f'Car 1: {c1.modelno}\\nCar 2: {c2.modelno}')"
      ],
      "execution_count": 3,
      "outputs": [
        {
          "output_type": "stream",
          "name": "stdout",
          "text": [
            "Before Swapping:\n",
            "Car 1: ABC123\n",
            "Car 2: XYZ456\n",
            "\n",
            "After Swapping:\n",
            "Car 1: XYZ456\n",
            "Car 2: ABC123\n"
          ]
        }
      ]
    }
  ]
}