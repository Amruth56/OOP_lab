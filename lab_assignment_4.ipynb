{
  "nbformat": 4,
  "nbformat_minor": 0,
  "metadata": {
    "colab": {
      "name": "lab_assignment_4.ipynb",
      "provenance": [],
      "collapsed_sections": [],
      "authorship_tag": "ABX9TyMcg2kL+GZbtJel7RIsxJ/9",
      "include_colab_link": true
    },
    "kernelspec": {
      "name": "python3",
      "display_name": "Python 3"
    },
    "language_info": {
      "name": "python"
    }
  },
  "cells": [
    {
      "cell_type": "markdown",
      "metadata": {
        "id": "view-in-github",
        "colab_type": "text"
      },
      "source": [
        "<a href=\"https://colab.research.google.com/github/Amruth56/OOP_lab/blob/main/lab_assignment_4.ipynb\" target=\"_parent\"><img src=\"https://colab.research.google.com/assets/colab-badge.svg\" alt=\"Open In Colab\"/></a>"
      ]
    },
    {
      "cell_type": "markdown",
      "metadata": {
        "id": "5P1Y26x2cy04"
      },
      "source": [
        "**AMRUTH MANDAPPA_20BCS013_00P_TASK_4**"
      ]
    },
    {
      "cell_type": "markdown",
      "metadata": {
        "id": "o5bxTH6kdkzY"
      },
      "source": [
        "**QUESTION 1**\n"
      ]
    },
    {
      "cell_type": "code",
      "metadata": {
        "colab": {
          "base_uri": "https://localhost:8080/",
          "height": 0
        },
        "id": "buL8_rf1dBT8",
        "outputId": "03931985-fa71-433c-b9e6-6e81c42c7044"
      },
      "source": [
        "class Node:\n",
        "    def __init__(self, data):\n",
        "        self.data = data\n",
        "        self.next = None\n",
        "    \n",
        "    def __del__(self):\n",
        "        print(f\"Element {self.data} deleted\")\n",
        "\n",
        "class Stack(Node):\n",
        "    def __init__(self):\n",
        "        self.head = Node(None)\n",
        "        self.size = 0\n",
        "\n",
        "    def isEmpty(self):\n",
        "        return self.size == 0\n",
        "\n",
        "    def push(self, data):\n",
        "        temp = Node(data)\n",
        "        temp.next = self.head.next\n",
        "        self.head.next = temp\n",
        "        self.size += 1\n",
        "    \n",
        "    def pop(self):\n",
        "        if self.isEmpty():\n",
        "            print(\"Stack Is Empty\\n\")\n",
        "        delete = self.head.next\n",
        "        self.head.next = self.head.next.next\n",
        "        self.size -= 1\n",
        "        return delete.data\n",
        "\n",
        "    def displayStack(self):\n",
        "        iter = self.head.next\n",
        "        print(\"\\nStack : \", end=\"\")\n",
        "        \n",
        "        while iter:\n",
        "            print(iter.data, end=\"\\t\")\n",
        "            iter = iter.next\n",
        "        print()\n",
        "\n",
        "    def __del__(self):\n",
        "        if not self.isEmpty():\n",
        "            iter = self.head\n",
        "            while iter:\n",
        "                temp = iter.next\n",
        "                del iter\n",
        "                self.size -= 1\n",
        "                iter = temp              \n",
        "\n",
        "s = Stack()\n",
        "for i in range(0, 11):\n",
        "    s.push(i)\n",
        "\n",
        "s.displayStack()\n",
        "\n",
        "for i in range(0, 5):\n",
        "    delete = s.pop()\n",
        "    print(f\"Popped element is : {delete}\\n\")\n",
        "\n",
        "s.displayStack()"
      ],
      "execution_count": 20,
      "outputs": [
        {
          "output_type": "stream",
          "name": "stdout",
          "text": [
            "Element None deleted\n",
            "Element 5 deleted\n",
            "Element 4 deleted\n",
            "Element 3 deleted\n",
            "Element 2 deleted\n",
            "Element 1 deleted\n",
            "Element 0 deleted\n",
            "\n",
            "Stack : 10\t9\t8\t7\t6\t5\t4\t3\t2\t1\t0\t\n",
            "Element 10 deleted\n",
            "Popped element is : 10\n",
            "\n",
            "Element 9 deleted\n",
            "Popped element is : 9\n",
            "\n",
            "Element 8 deleted\n",
            "Popped element is : 8\n",
            "\n",
            "Element 7 deleted\n",
            "Popped element is : 7\n",
            "\n",
            "Element 6 deleted\n",
            "Popped element is : 6\n",
            "\n",
            "\n",
            "Stack : 5\t4\t3\t2\t1\t0\t\n"
          ]
        }
      ]
    },
    {
      "cell_type": "markdown",
      "metadata": {
        "id": "yxe_NmBDhG08"
      },
      "source": [
        "**QUESTION 2**"
      ]
    },
    {
      "cell_type": "code",
      "metadata": {
        "colab": {
          "base_uri": "https://localhost:8080/",
          "height": 0
        },
        "id": "K5qgQA62dDch",
        "outputId": "2685e629-e3b0-4ab2-fda7-ea61a69fa91e"
      },
      "source": [
        "class Rectangle1:\n",
        "    def __init__(self):                                 # Default constructor\n",
        "        self.length = int(input(\"Enter length of rectangle: \"))\n",
        "        self.breadth = int(input(\"Enter breadth of rectangle: \"))\n",
        "    \n",
        "    def area(self):\n",
        "        return self.length*self.breadth\n",
        "\n",
        "class Rectangle2(Rectangle1):\n",
        "    def __init__(self, length, breadth):                 # Parameterized constructor\n",
        "        self.length = length\n",
        "        self.breadth = breadth\n",
        "\n",
        "rect1 = Rectangle1()\n",
        "rect2 = Rectangle2(4,7)\n",
        "print(\"Area =\",rect1.area())\n",
        "print(\"Area =\",rect2.area())"
      ],
      "execution_count": 2,
      "outputs": [
        {
          "output_type": "stream",
          "name": "stdout",
          "text": [
            "Enter length of rectangle: 2\n",
            "Enter breadth of rectangle: 4\n",
            "Area = 8\n",
            "Area = 28\n"
          ]
        }
      ]
    },
    {
      "cell_type": "markdown",
      "metadata": {
        "id": "FoAmFMF0i6x_"
      },
      "source": [
        "**QUESTION 3**"
      ]
    },
    {
      "cell_type": "code",
      "metadata": {
        "colab": {
          "base_uri": "https://localhost:8080/"
        },
        "id": "ng2iwr5_dWDF",
        "outputId": "88a4842f-5a69-49c6-ad45-839e6e9083f8"
      },
      "source": [
        "\n",
        "class Queue:\n",
        "    def __init__(self):\n",
        "        self.queue = []\n",
        "\n",
        "    def isEmpty(self):\n",
        "        return self.queue == []\n",
        "\n",
        "    def enqueue(self, data):\n",
        "        self.queue.append(data)\n",
        "\n",
        "    def dequeue(self):\n",
        "        return self.queue.pop(0)\n",
        "\n",
        "    def displayQueue(self):\n",
        "        print(f\"Queue : {self.queue}\")\n",
        "\n",
        "    def __del__(self):\n",
        "        print(\"Queue deleted\")\n",
        "\n",
        "q = Queue()\n",
        "for i in range(0, 11):\n",
        "    q.enqueue(i)\n",
        "\n",
        "q.displayQueue()\n",
        "\n",
        "for i in range(1, 4):\n",
        "    print(f\"Value Dequeued : {q.dequeue()}\")\n",
        "\n",
        "q.displayQueue()"
      ],
      "execution_count": 21,
      "outputs": [
        {
          "output_type": "stream",
          "name": "stdout",
          "text": [
            "Queue : [0, 1, 2, 3, 4, 5, 6, 7, 8, 9, 10]\n",
            "Value Dequeued : 0\n",
            "Value Dequeued : 1\n",
            "Value Dequeued : 2\n",
            "Queue : [3, 4, 5, 6, 7, 8, 9, 10]\n"
          ]
        }
      ]
    }
  ]
}