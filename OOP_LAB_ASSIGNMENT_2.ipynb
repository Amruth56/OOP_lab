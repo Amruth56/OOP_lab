{
  "nbformat": 4,
  "nbformat_minor": 0,
  "metadata": {
    "colab": {
      "name": "OOP_LAB_ASSIGNMENT-2",
      "provenance": [],
      "authorship_tag": "ABX9TyMh2CyW+eHVLt92s9HocQFV",
      "include_colab_link": true
    },
    "kernelspec": {
      "name": "python3",
      "display_name": "Python 3"
    },
    "language_info": {
      "name": "python"
    }
  },
  "cells": [
    {
      "cell_type": "markdown",
      "metadata": {
        "id": "view-in-github",
        "colab_type": "text"
      },
      "source": [
        "<a href=\"https://colab.research.google.com/github/Amruth56/OOP_lab/blob/main/OOP_LAB_ASSIGNMENT_2.ipynb\" target=\"_parent\"><img src=\"https://colab.research.google.com/assets/colab-badge.svg\" alt=\"Open In Colab\"/></a>"
      ]
    },
    {
      "cell_type": "markdown",
      "metadata": {
        "id": "uhFi8cot66F9"
      },
      "source": [
        "#***`AMRUTH_MANDAPPA_20BCS013_OOP_TASK_2`***\n",
        "\n",
        "\n",
        "\n"
      ]
    },
    {
      "cell_type": "markdown",
      "metadata": {
        "id": "asfA9-Tr7Sia"
      },
      "source": [
        "#**PROBLEM 1**"
      ]
    },
    {
      "cell_type": "code",
      "metadata": {
        "colab": {
          "base_uri": "https://localhost:8080/"
        },
        "id": "QetjWkUI671O",
        "outputId": "50f4b0f6-e6e6-40b3-85d7-e3e51a5dd7e8"
      },
      "source": [
        "\n",
        "class Circle:\n",
        "    def __init__(self, radius):\n",
        "        self.radius = radius\n",
        "\n",
        "    def perimeter(self):\n",
        "        return (2 * (22/7) * self.radius)\n",
        "\n",
        "    def area(self):\n",
        "        return ((22/7) * (self.radius ** 2))\n",
        "\n",
        "cir = Circle(6)\n",
        "print(cir.perimeter())\n",
        "print(cir.area())"
      ],
      "execution_count": null,
      "outputs": [
        {
          "output_type": "stream",
          "name": "stdout",
          "text": [
            "37.714285714285715\n",
            "113.14285714285714\n"
          ]
        }
      ]
    },
    {
      "cell_type": "markdown",
      "metadata": {
        "id": "XKQj0ZHx7x8H"
      },
      "source": [
        "#**PROBLEM 2**"
      ]
    },
    {
      "cell_type": "code",
      "metadata": {
        "colab": {
          "base_uri": "https://localhost:8080/"
        },
        "id": "k5mGdFOu73c9",
        "outputId": "7281e14b-2b38-43bb-b43b-d539d2260afb"
      },
      "source": [
        "class Faculty:\n",
        "    \n",
        "    def input_data(self):\n",
        "        self.name = str(input(\"Enter the name of the Employee : \"))\n",
        "        self.emp_ID = int(input(\"Enter the employee ID : \"))\n",
        "        self.branch = str(input(\"Enter the branch : \"))\n",
        "        self.salary = int(input(\"Enter the salary : \"))\n",
        "\n",
        "    def out_data(self):\n",
        "        print(f\"Faculty Name : {self.name} \\n Faculty Employee ID : {self.emp_ID} \\n Faculty Branch : {self.branch} \\n Faculty Salary : {self.salary}\\n\")\n",
        "        return self.name, self.emp_ID, self.branch, self.salary\n",
        "\n",
        "list_fac = []\n",
        "for x in range(1,6):\n",
        "    temp = Faculty()\n",
        "    print(f\"\\nEnter the data for {x}th employee : \")\n",
        "    temp.input_data()\n",
        "    list_fac.append(temp)\n",
        "\n",
        "for x in range(0,5):\n",
        "    print(f\"\\n\\n\\nData of {x+1}th employee : \")\n",
        "    list_fac[x].out_data()"
      ],
      "execution_count": null,
      "outputs": [
        {
          "output_type": "stream",
          "name": "stdout",
          "text": [
            "\n",
            "Enter the data for 1th employee : \n",
            "Enter the name of the Employee : ABC\n",
            "Enter the employee ID : 001\n",
            "Enter the branch : cse\n",
            "Enter the salary : 200000\n",
            "\n",
            "Enter the data for 2th employee : \n",
            "Enter the name of the Employee : DEF\n",
            "Enter the employee ID : 002\n",
            "Enter the branch : cse\n",
            "Enter the salary : 200000\n",
            "\n",
            "Enter the data for 3th employee : \n",
            "Enter the name of the Employee : LMN\n",
            "Enter the employee ID : 003\n",
            "Enter the branch : cse\n",
            "Enter the salary : 200000\n",
            "\n",
            "Enter the data for 4th employee : \n",
            "Enter the name of the Employee : XYZ\n",
            "Enter the employee ID : 004\n",
            "Enter the branch : cse\n",
            "Enter the salary : 200000\n",
            "\n",
            "Enter the data for 5th employee : \n",
            "Enter the name of the Employee : UVW\n",
            "Enter the employee ID : 005\n",
            "Enter the branch : cse\n",
            "Enter the salary : 200000\n",
            "\n",
            "\n",
            "\n",
            "Data of 1th employee : \n",
            "Faculty Name : ABC \n",
            " Faculty Employee ID : 1 \n",
            " Faculty Branch : cse \n",
            " Faculty Salary : 200000\n",
            "\n",
            "\n",
            "\n",
            "\n",
            "Data of 2th employee : \n",
            "Faculty Name : DEF \n",
            " Faculty Employee ID : 2 \n",
            " Faculty Branch : cse \n",
            " Faculty Salary : 200000\n",
            "\n",
            "\n",
            "\n",
            "\n",
            "Data of 3th employee : \n",
            "Faculty Name : LMN \n",
            " Faculty Employee ID : 3 \n",
            " Faculty Branch : cse \n",
            " Faculty Salary : 200000\n",
            "\n",
            "\n",
            "\n",
            "\n",
            "Data of 4th employee : \n",
            "Faculty Name : XYZ \n",
            " Faculty Employee ID : 4 \n",
            " Faculty Branch : cse \n",
            " Faculty Salary : 200000\n",
            "\n",
            "\n",
            "\n",
            "\n",
            "Data of 5th employee : \n",
            "Faculty Name : UVW \n",
            " Faculty Employee ID : 5 \n",
            " Faculty Branch : cse \n",
            " Faculty Salary : 200000\n",
            "\n"
          ]
        }
      ]
    },
    {
      "cell_type": "markdown",
      "metadata": {
        "id": "uSqcQcUeBf2x"
      },
      "source": [
        "#**PROBLEM 3**"
      ]
    },
    {
      "cell_type": "code",
      "metadata": {
        "colab": {
          "base_uri": "https://localhost:8080/"
        },
        "id": "rqi2iJ_KBkG8",
        "outputId": "c509c1b4-3878-4ec6-cfd0-99de97cae099"
      },
      "source": [
        "class Account:\n",
        "    def __init__(self, account_number, account_holder_name, amount):\n",
        "        self.accountNumber = account_number\n",
        "        self.accountHolderName = account_holder_name\n",
        "        self.Amount = amount\n",
        "\n",
        "    def deposit(self):\n",
        "        deposit_Amount = int(input(\"Enter the amount to deposit in your bank: \"))\n",
        "        self.Amount += deposit_Amount\n",
        "        print(f\"Amount deposited : {deposit_Amount} \\n New Balance : {self.Amount}\")\n",
        "\n",
        "    def withdraw(self):\n",
        "        withdraw_Amount = int(input(\"Enter the amount to withdraw from your account: \"))\n",
        "        if withdraw_Amount > self.Amount:\n",
        "            print(\"Low bank balance.\")\n",
        "            return -1\n",
        "        self.Amount -= withdraw_Amount\n",
        "        print(f\"Amount withdraw : {withdraw_Amount} \\n New Balance Avaliable= {self.Amount}\")\n",
        "        return withdraw_Amount\n",
        "\n",
        "    def check_bank_Balance(self):\n",
        "        print(f\"Account Balance : {self.Amount}\")\n",
        "        return self.Amount\n",
        "\n",
        "    def getDetails(self):\n",
        "        print(f\"\\n Account Number : {self.accountNumber} \\n Account Holder Name : {self.accountHolderName} \\n Account Balance : {self.Amount}\")\n",
        "        return self.accountNumber, self.accountHolderName, self.Amount\n",
        "\n",
        "a1 = Account(13, \"Amruth Mandappa T.S\", 10000)\n",
        "a1.deposit()\n",
        "withdraw = a1.withdraw()\n",
        "balance = a1.check_bank_Balance()\n",
        "details = a1.getDetails()"
      ],
      "execution_count": null,
      "outputs": [
        {
          "output_type": "stream",
          "name": "stdout",
          "text": [
            "Enter the amount to deposit in your bank: 3000\n",
            "Amount deposited : 3000 \n",
            " New Balance : 13000\n",
            "Enter the amount to withdraw from your account: 8000\n",
            "Amount withdraw : 8000 \n",
            " New Balance Avaliable= 5000\n",
            "Account Balance : 5000\n",
            "\n",
            " Account Number : 13 \n",
            " Account Holder Name : Amruth Mandappa T.S \n",
            " Account Balance : 5000\n"
          ]
        }
      ]
    },
    {
      "cell_type": "markdown",
      "metadata": {
        "id": "1mQ_L_2uEgRG"
      },
      "source": [
        "#**PROBLEM 4**"
      ]
    },
    {
      "cell_type": "code",
      "metadata": {
        "colab": {
          "base_uri": "https://localhost:8080/"
        },
        "id": "qD99jpKSEj0A",
        "outputId": "b15df29d-d7ae-4289-e8f9-77290c0f8c89"
      },
      "source": [
        "class student():\n",
        "  def __init__(self,Student_Name,Student_USN,Student_Marks):\n",
        "    self.Student_Name = Student_Name\n",
        "    self.Student_USN = Student_USN\n",
        "    self.Student_Marks = Student_Marks\n",
        "  def Students_Name(self):\n",
        "    print(\"Student Name: \", self.Student_Name)\n",
        "  def Students_USN(self):\n",
        "    print(\"Student USN: \", self.Student_USN)\n",
        "  def Students_Marks(self):\n",
        "    print(\"Student Marks: \",self.Student_Marks)\n",
        "marks = []\n",
        "marks.append(99)   \n",
        "marks.append(94)\n",
        "marks.append(98)\n",
        "\n",
        "s1 = student(\"Itadori\", 25, marks)\n",
        "s1.Students_Name()\n",
        "s1.Students_USN()\n",
        "s1.Students_Marks()"
      ],
      "execution_count": null,
      "outputs": [
        {
          "output_type": "stream",
          "name": "stdout",
          "text": [
            "Student Name:  Itadori\n",
            "Student USN:  25\n",
            "Student Marks:  [99, 94, 98]\n"
          ]
        }
      ]
    },
    {
      "cell_type": "markdown",
      "metadata": {
        "id": "V-IDwDIBNl1a"
      },
      "source": [
        "#**PROBLEM 5**"
      ]
    },
    {
      "cell_type": "code",
      "metadata": {
        "colab": {
          "base_uri": "https://localhost:8080/"
        },
        "id": "I0usMbwdNpRR",
        "outputId": "7dc2ee28-6a31-4ff7-e0a7-e0b8024dac3b"
      },
      "source": [
        "\n",
        "class Patient:\n",
        "  def __init__(self, name, admission_date, symptoms : list, oxygen_level, discharge_date):\n",
        "    self.name = name\n",
        "    self.admission_date = admission_date\n",
        "    self.symptoms = symptoms\n",
        "    self.oxygen_level = oxygen_level\n",
        "    self.discharge_date = discharge_date\n",
        "\n",
        "class Data:\n",
        "  def __init__(self):\n",
        "    self.oxygen_support = []\n",
        "    self.general_ward = []\n",
        "\n",
        "  def Patient(self, patient):\n",
        "    if (patient.oxygen_level < 90):\n",
        "      self.oxygen_support.append(patient)\n",
        "    else:\n",
        "      self.general_ward.append(patient)\n",
        "\n",
        "  def numberOxygen(self):\n",
        "    print(f\"Totaal number of patients needing oxygen support is {len(self.oxygen_support)}\")\n",
        "\n",
        "  def numberGeneral(self):\n",
        "    print(f\"Total number of patients in general ward is {len(self.general_ward)}\")\n",
        "\n",
        "  def totalPatients(self):\n",
        "    print(f\"Total number of patients is {len(self.general_ward)+len(self.oxygen_support)}\")\n",
        "\n",
        "  def patientInfo(self):\n",
        "    print(\"Patients in oxygen support\")\n",
        "    for patient in self.oxygen_support:\n",
        "      print(\"\\n\")\n",
        "      print(\"Name:\", patient.name)\n",
        "      print(\"Admission Date:\", patient.admission_date)\n",
        "      print(\"symptoms:\", patient.symptoms)\n",
        "      print(\"oxygen level:\", patient.oxygen_level)\n",
        "      print(\"Discharge Date:\", patient.discharge_date)\n",
        "      print(\"\\n\")\n",
        "\n",
        "    print(\"Patients in General ward\")\n",
        "    for patient in self.general_ward:\n",
        "      print(\"Name:\", patient.name)\n",
        "      print(\"Admission Date:\", patient.admission_date)\n",
        "      print(\"symptoms:\", patient.symptoms)\n",
        "      print(\"oxygen level:\", patient.oxygen_level)\n",
        "      print(\"Discharge Date:\", patient.discharge_date)\n",
        "      print(\"\\n\")\n",
        "\n",
        "patient1 = Patient(\"QWERTY\", \"14/09/2021\", [\"Fever\", \"Nausea\"], 60, \"22/09/2021\")\n",
        "patient2 = Patient(\"ABCDEF\", \"15/09/2021\", [\"Fatigue\", \"Fever\"], 130, \"27/09/2021\")\n",
        "\n",
        "db = Data()\n",
        "db.Patient(patient1)\n",
        "db.Patient(patient2)\n",
        "db.patientInfo()\n",
        "db.numberOxygen()\n",
        "db.numberGeneral()\n",
        "db.totalPatients()"
      ],
      "execution_count": 43,
      "outputs": [
        {
          "output_type": "stream",
          "name": "stdout",
          "text": [
            "Patients in oxygen support\n",
            "\n",
            "\n",
            "Name: QWERTY\n",
            "Admission Date: 14/09/2021\n",
            "symptoms: ['Fever', 'Nausea']\n",
            "oxygen level: 60\n",
            "Discharge Date: 22/09/2021\n",
            "\n",
            "\n",
            "Patients in General ward\n",
            "Name: ABCDEF\n",
            "Admission Date: 15/09/2021\n",
            "symptoms: ['Fatigue', 'Fever']\n",
            "oxygen level: 130\n",
            "Discharge Date: 27/09/2021\n",
            "\n",
            "\n",
            "Totaal number of patients needing oxygen support is 1\n",
            "Total number of patients in general ward is 1\n",
            "Total number of patients is 2\n"
          ]
        }
      ]
    },
    {
      "cell_type": "markdown",
      "metadata": {
        "id": "-mtrA7WZSvRQ"
      },
      "source": [
        "#**PROBLEM 6**"
      ]
    },
    {
      "cell_type": "code",
      "metadata": {
        "colab": {
          "base_uri": "https://localhost:8080/"
        },
        "id": "dGQlEIObS0Fd",
        "outputId": "f38bdc12-bd39-485b-e7cb-0b05eee6e57e"
      },
      "source": [
        "class time():\n",
        "  def __init__(self,hr=0,min=0,sec=0):\n",
        "    self.hour = hr\n",
        "    self.minute = min\n",
        "    self.second = sec\n",
        "  def dis(self):\n",
        "    print(\"Time :\",self.hour,\":\",self.minute,\":\",self.second)\n",
        "t1 = time()\n",
        "t1.dis()\n",
        "t1.hour = 11\n",
        "t1.minute = 59\n",
        "t1.second = 59\n",
        "t1.dis()"
      ],
      "execution_count": 42,
      "outputs": [
        {
          "output_type": "stream",
          "name": "stdout",
          "text": [
            "Time : 0 : 0 : 0\n",
            "Time : 11 : 59 : 59\n"
          ]
        }
      ]
    },
    {
      "cell_type": "markdown",
      "metadata": {
        "id": "YsOZIUY2Wzdx"
      },
      "source": [
        "#**PROBLEM 7**"
      ]
    },
    {
      "cell_type": "code",
      "metadata": {
        "colab": {
          "base_uri": "https://localhost:8080/"
        },
        "id": "k1q_rqL5W_FR",
        "outputId": "eab0dfaa-5181-4619-f40d-6ef32b4633bb"
      },
      "source": [
        "class student():\n",
        "  def __init__(self,Student_Name,Student_Age,Student_Roll):\n",
        "    self.Name = Student_Name\n",
        "    self.Age = Student_Age\n",
        "    self.Roll = Student_Roll\n",
        "\n",
        "s1 = student(\"Rahul\", 21, 33)\n",
        "s2 = student(\"Rohit\", 22, 74)\n",
        "def check(s1, s2):\n",
        "  if s1.Name == s2.Name:\n",
        "    print(\"Age of the students are equal\")\n",
        "  else:\n",
        "    print(\"Age of the students are not equal\")\n",
        "check(s1,s2)"
      ],
      "execution_count": 45,
      "outputs": [
        {
          "output_type": "stream",
          "name": "stdout",
          "text": [
            "Age of the students are not equal\n"
          ]
        }
      ]
    },
    {
      "cell_type": "markdown",
      "metadata": {
        "id": "1MA4Xsz3W0Sx"
      },
      "source": [
        "#**PROBLEM 8**"
      ]
    },
    {
      "cell_type": "code",
      "metadata": {
        "colab": {
          "base_uri": "https://localhost:8080/"
        },
        "id": "1qjk8A0lW_0h",
        "outputId": "1b4e19e0-f2a5-4624-ae0d-488bcee2a6df"
      },
      "source": [
        "\n",
        "class student():\n",
        "  semester = \"3\"\n",
        "  institute = \"Indian institute of iinformation technology, Dharwad\"\n",
        "  def __init__(self,Name,USN):\n",
        "    self.Name = Name\n",
        "    self.USN = USN\n",
        "  def display(self):\n",
        "    print(\"Student Name: \",self.Name)\n",
        "    print(\"Student USN: \",self.USN)\n",
        "\n",
        "  @classmethod\n",
        "  def dis_class(cls):\n",
        "    print(\"Semester\",cls.semester)\n",
        "    print(\"Institute\",cls.institute,\"\\n\\n\")\n",
        "    \n",
        "  @staticmethod\n",
        "  def printclass(Name, USN, semester, institute):\n",
        "    print(\"Student name: \",Name)\n",
        "    print(\"student USN: \", USN)\n",
        "    print(\"semester: \",semester)\n",
        "    print(\"Institute: \",institute)\n",
        "\n",
        "s1 = student(\"Amruth\", 13)\n",
        "s1.display()\n",
        "s1.dis_class()\n",
        "s1.printclass(\"Amruth\",13,\"3\", \"Indian institute of iinformation technology, Dharwad\")"
      ],
      "execution_count": 52,
      "outputs": [
        {
          "output_type": "stream",
          "name": "stdout",
          "text": [
            "Student Name:  Amruth\n",
            "Student USN:  13\n",
            "Semester 3\n",
            "Institute Indian institute of iinformation technology, Dharwad \n",
            "\n",
            "\n",
            "Student name:  Amruth\n",
            "student USN:  13\n",
            "semester:  3\n",
            "Institute:  Indian institute of iinformation technology, Dharwad\n"
          ]
        }
      ]
    },
    {
      "cell_type": "markdown",
      "metadata": {
        "id": "UgSPg9XcW0gI"
      },
      "source": [
        "#**PROBLEM 9**"
      ]
    },
    {
      "cell_type": "code",
      "metadata": {
        "colab": {
          "base_uri": "https://localhost:8080/"
        },
        "id": "XzzbMrIrXA4v",
        "outputId": "8772e4d9-a33a-43f1-de34-f841b77fd124"
      },
      "source": [
        "class Student_Uni:\n",
        "\n",
        "  def __init__(self, Name, roll_number, semester, laptop_name, laptop_cpu, laptop_ram, laptop_hard_disk):\n",
        "    self.name = Name\n",
        "    self.roll_num = roll_number\n",
        "    self.sem = semester\n",
        "    self.laptop = self.Laptop(laptop_name, laptop_cpu, laptop_ram, laptop_hard_disk)\n",
        "\n",
        "\n",
        "  class Laptop:\n",
        "    def __init__(self, name, cpu, ram : int, hard_disk):\n",
        "      self.name = name\n",
        "      self.cpu = cpu\n",
        "      self.ram = ram\n",
        "      self.hard_disk = hard_disk\n",
        "\n",
        "    def specifications(self):\n",
        "      print(\"Laptop Name:\", self.name)\n",
        "      print(\"Laptop CPU:\", self.cpu)\n",
        "      print(\"Laptop RAM:\", self.ram, \"GB\")\n",
        "      print(\"Laptop Hard disk:\", self.hard_disk)\n",
        "\n",
        "  def disp(self):\n",
        "    print(\"Name:\", self.name)\n",
        "    print(\"Roll Number:\", self.roll_num)\n",
        "    print(\"Sem:\", self.sem)\n",
        "    self.laptop.specifications()\n",
        "\n",
        "x = Student_Uni(\"Amruth\", 13 , 3,\"HP 14s\", \"Intel i5\", 16, \"512 GB SSD\")\n",
        "x.disp()"
      ],
      "execution_count": 56,
      "outputs": [
        {
          "output_type": "stream",
          "name": "stdout",
          "text": [
            "Name: Amruth\n",
            "Roll Number: 50\n",
            "Sem: 3\n",
            "Laptop Name: HP 14s\n",
            "Laptop CPU: Intel i5\n",
            "Laptop RAM: 16 GB\n",
            "Laptop Hard disk: 512 GB SSD\n"
          ]
        }
      ]
    }
  ]
}